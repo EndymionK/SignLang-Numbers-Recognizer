{
 "cells": [
  {
   "cell_type": "markdown",
   "id": "891ccbd4",
   "metadata": {},
   "source": [
    "# Predicción en tiempo real con cámara usando modelo LSTM y landmarks de MediaPipe\n",
    "\n",
    "Este notebook utiliza la cámara del dispositivo para detectar la mano, extraer los landmarks y predecir el número en lenguaje de señas usando el modelo entrenado."
   ]
  },
  {
   "cell_type": "code",
   "execution_count": null,
   "id": "96665949",
   "metadata": {},
   "outputs": [],
   "source": [
    "import cv2\n",
    "import numpy as np\n",
    "import mediapipe as mp\n",
    "import tensorflow as tf\n",
    "import joblib\n",
    "import os\n",
    "\n",
    "# Cargar modelo y label encoder\n",
    "modelo_path = os.path.join(\"..\", \"Modelos\", \"modelo_lstm_landmarks.keras\")\n",
    "encoder_path = os.path.join(\"..\", \"Modelos\", \"label_encoder_landmarks.pkl\")\n",
    "model = tf.keras.models.load_model(modelo_path)\n",
    "le = joblib.load(encoder_path)\n",
    "\n",
    "mp_hands = mp.solutions.hands\n",
    "mp_drawing = mp.solutions.drawing_utils\n",
    "\n",
    "# Usar fuente similar a Times New Roman en OpenCV\n",
    "FONT = cv2.FONT_HERSHEY_TRIPLEX\n",
    "\n",
    "def extract_landmarks_from_frame(frame, hands):\n",
    "    frame_rgb = cv2.cvtColor(frame, cv2.COLOR_BGR2RGB)\n",
    "    results = hands.process(frame_rgb)\n",
    "    if results.multi_hand_landmarks:\n",
    "        hand_landmarks = results.multi_hand_landmarks[0].landmark\n",
    "        landmarks = np.array([[l.x, l.y, l.z] for l in hand_landmarks]).flatten()\n",
    "        return landmarks, results.multi_hand_landmarks[0]\n",
    "    else:\n",
    "        return None, None\n",
    "\n",
    "cap = cv2.VideoCapture(0)\n",
    "if not cap.isOpened():\n",
    "    raise RuntimeError(\"No se pudo acceder a la cámara.\")\n",
    "\n",
    "# Inicializar MediaPipe Hands una sola vez\n",
    "with mp_hands.Hands(static_image_mode=False, max_num_hands=1) as hands:\n",
    "    try:\n",
    "        while True:\n",
    "            ret, frame = cap.read()\n",
    "            if not ret:\n",
    "                break\n",
    "\n",
    "            landmarks, hand_landmarks_obj = extract_landmarks_from_frame(frame, hands)\n",
    "            if landmarks is not None:\n",
    "                # Redimensionar para LSTM: (1, 21, 3)\n",
    "                X_pred = landmarks.reshape(1, 21, 3)\n",
    "                pred = model.predict(X_pred, verbose=0)\n",
    "                pred_class = np.argmax(pred, axis=1)[0]\n",
    "                label = le.inverse_transform([pred_class])[0]\n",
    "                # Dibujar landmarks\n",
    "                mp_drawing.draw_landmarks(frame, hand_landmarks_obj, mp_hands.HAND_CONNECTIONS)\n",
    "                cv2.putText(frame, f\"Prediccion: {label}\", (10, 40), FONT, 1.2, (0,255,0), 3)\n",
    "            else:\n",
    "                cv2.putText(frame, \"Mano no detectada\", (10, 40), FONT, 1.2, (0,0,255), 3)\n",
    "\n",
    "            cv2.imshow(\"Predicción en tiempo real\", frame)\n",
    "            if cv2.waitKey(1) & 0xFF == 27:  # ESC para salir\n",
    "                break\n",
    "    finally:\n",
    "        cap.release()\n",
    "        cv2.destroyAllWindows()"
   ]
  }
 ],
 "metadata": {
  "kernelspec": {
   "display_name": ".venv",
   "language": "python",
   "name": "python3"
  },
  "language_info": {
   "codemirror_mode": {
    "name": "ipython",
    "version": 3
   },
   "file_extension": ".py",
   "mimetype": "text/x-python",
   "name": "python",
   "nbconvert_exporter": "python",
   "pygments_lexer": "ipython3",
   "version": "3.10.0"
  }
 },
 "nbformat": 4,
 "nbformat_minor": 5
}
