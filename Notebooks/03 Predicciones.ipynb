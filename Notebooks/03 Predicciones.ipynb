{
 "cells": [
  {
   "cell_type": "markdown",
   "id": "6c365ee6",
   "metadata": {},
   "source": [
    "# Predicción de número usando modelo LSTM y landmarks\n",
    "\n",
    "Este notebook permite seleccionar una imagen, extraer los landmarks con MediaPipe, preprocesarla y predecir el número usando el modelo LSTM entrenado."
   ]
  },
  {
   "cell_type": "code",
   "execution_count": null,
   "id": "dec8be32",
   "metadata": {},
   "outputs": [],
   "source": [
    "import os\n",
    "import cv2\n",
    "import numpy as np\n",
    "import matplotlib.pyplot as plt\n",
    "import mediapipe as mp\n",
    "import tensorflow as tf\n",
    "import joblib\n",
    "from tkinter import Tk, filedialog\n",
    "\n",
    "# Cargar modelo y codificador\n",
    "model = tf.keras.models.load_model(\"modelo_lstm_landmarks.keras\")\n",
    "le = joblib.load(\"label_encoder_landmarks.pkl\")"
   ]
  },
  {
   "cell_type": "markdown",
   "id": "8d6a4bcf",
   "metadata": {},
   "source": [
    "## Seleccionar imagen y extraer landmarks"
   ]
  },
  {
   "cell_type": "code",
   "execution_count": null,
   "id": "cb026ea7",
   "metadata": {},
   "outputs": [],
   "source": [
    "# Función para extraer landmarks de una imagen\n",
    "mp_hands = mp.solutions.hands\n",
    "\n",
    "def extract_landmarks_from_image(img_path):\n",
    "    img = cv2.imread(img_path)\n",
    "    if img is None:\n",
    "        return None, None\n",
    "    img_rgb = cv2.cvtColor(img, cv2.COLOR_BGR2RGB)\n",
    "    with mp_hands.Hands(static_image_mode=True, max_num_hands=1) as hands:\n",
    "        results = hands.process(img_rgb)\n",
    "        if results.multi_hand_landmarks:\n",
    "            hand_landmarks = results.multi_hand_landmarks[0].landmark\n",
    "            landmarks_vec = np.array([[l.x, l.y, l.z] for l in hand_landmarks]).flatten()\n",
    "            return hand_landmarks, landmarks_vec\n",
    "        else:\n",
    "            return None, None"
   ]
  },
  {
   "cell_type": "code",
   "execution_count": null,
   "id": "59a77896",
   "metadata": {},
   "outputs": [],
   "source": [
    "# Seleccionar archivo de imagen\n",
    "Tk().withdraw()\n",
    "img_path = filedialog.askopenfilename(title=\"Selecciona una imagen\", filetypes=[(\"Imágenes\", \"*.jpg *.jpeg *.png\")])\n",
    "print(\"Imagen seleccionada:\", img_path)\n",
    "\n",
    "# Verificar si la imagen se puede cargar antes de continuar\n",
    "img_check = cv2.imread(img_path)\n",
    "if img_check is None:\n",
    "    print(f\"No se pudo cargar la imagen desde la ruta: {img_path}\")\n",
    "    # Detener ejecución si la imagen no se puede cargar\n",
    "    raise SystemExit(\"Ejecución detenida: imagen no válida.\")"
   ]
  },
  {
   "cell_type": "code",
   "execution_count": null,
   "id": "c19fade4",
   "metadata": {},
   "outputs": [],
   "source": [
    "# Extraer landmarks y predecir\n",
    "hand_landmarks, landmarks_vec = extract_landmarks_from_image(img_path)\n",
    "if landmarks_vec is None:\n",
    "    print(\"No se detectó mano en la imagen.\")\n",
    "else:\n",
    "    # Preparar para LSTM: (1, 21, 3)\n",
    "    X_pred = landmarks_vec.reshape(1, 21, 3)\n",
    "    pred = model.predict(X_pred)\n",
    "    pred_class = le.inverse_transform([np.argmax(pred)])[0]\n",
    "    print(f\"Predicción: {pred_class}\")"
   ]
  },
  {
   "cell_type": "markdown",
   "id": "4f95a647",
   "metadata": {},
   "source": [
    "## Mostrar imagen con puntos clave y predicción"
   ]
  },
  {
   "cell_type": "code",
   "execution_count": null,
   "id": "f8028cfd",
   "metadata": {},
   "outputs": [],
   "source": [
    "img = cv2.imread(img_path)\n",
    "if img is None:\n",
    "    print(f\"No se pudo cargar la imagen desde la ruta: {img_path}\")\n",
    "else:\n",
    "    img_rgb = cv2.cvtColor(img, cv2.COLOR_BGR2RGB)\n",
    "    plt.figure(figsize=(5,5))\n",
    "    plt.imshow(img_rgb)\n",
    "    if hand_landmarks is not None:\n",
    "        mp_drawing = mp.solutions.drawing_utils\n",
    "        # Re-extract the full HandLandmark object for drawing\n",
    "        with mp_hands.Hands(static_image_mode=True, max_num_hands=1) as hands:\n",
    "            results = hands.process(img_rgb)\n",
    "            if results.multi_hand_landmarks:\n",
    "                mp_drawing.draw_landmarks(img_rgb, results.multi_hand_landmarks[0], mp_hands.HAND_CONNECTIONS)\n",
    "        plt.imshow(img_rgb)\n",
    "        plt.title(f\"Predicción: {pred_class}\")\n",
    "    else:\n",
    "        plt.title(\"No se detectó mano\")\n",
    "    plt.axis('off')\n",
    "    plt.show()"
   ]
  }
 ],
 "metadata": {
  "kernelspec": {
   "display_name": "venv",
   "language": "python",
   "name": "python3"
  },
  "language_info": {
   "codemirror_mode": {
    "name": "ipython",
    "version": 3
   },
   "file_extension": ".py",
   "mimetype": "text/x-python",
   "name": "python",
   "nbconvert_exporter": "python",
   "pygments_lexer": "ipython3",
   "version": "3.10.0"
  }
 },
 "nbformat": 4,
 "nbformat_minor": 5
}
