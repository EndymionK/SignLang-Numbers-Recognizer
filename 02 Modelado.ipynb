{
 "cells": [
  {
   "cell_type": "markdown",
   "id": "83cf5f15",
   "metadata": {},
   "source": [
    "# Modelado con LSTM usando landmarks de MediaPipe\n",
    "\n",
    "Este notebook carga los puntos clave (landmarks) extraídos en el preprocesamiento y entrena un modelo LSTM para clasificar los números en lenguaje de señas."
   ]
  },
  {
   "cell_type": "code",
   "execution_count": null,
   "id": "f9cd0a58",
   "metadata": {},
   "outputs": [],
   "source": [
    "# Librerías necesarias\n",
    "import os\n",
    "import numpy as np\n",
    "import pandas as pd\n",
    "from sklearn.model_selection import train_test_split\n",
    "from sklearn.preprocessing import LabelEncoder\n",
    "import tensorflow as tf\n",
    "from tensorflow import keras"
   ]
  },
  {
   "cell_type": "markdown",
   "id": "90ac60a2",
   "metadata": {},
   "source": [
    "## 1. Cargar los landmarks y preparar los datos"
   ]
  },
  {
   "cell_type": "code",
   "execution_count": null,
   "id": "f2dd1a69",
   "metadata": {},
   "outputs": [],
   "source": [
    "# Ruta al archivo CSV de landmarks\n",
    "landmarks_csv = os.path.join(\"preprocessed_numbers\", \"landmarks.csv\")\n",
    "df = pd.read_csv(landmarks_csv)\n",
    "\n",
    "# Solo usamos las clases numéricas (0-9)\n",
    "df = df[df[\"class\"].isin([str(i) for i in range(10)])].reset_index(drop=True)\n",
    "\n",
    "# Extraer X (landmarks) y y (clase)\n",
    "X = df[[f\"lm_{i}\" for i in range(63)]].values.astype(np.float32)\n",
    "y = df[\"class\"].values\n",
    "\n",
    "# Codificar etiquetas\n",
    "le = LabelEncoder()\n",
    "y_enc = le.fit_transform(y)\n",
    "\n",
    "# Para LSTM: reshape a (samples, timesteps, features)\n",
    "# MediaPipe Hands tiene 21 puntos, cada uno con (x, y, z)\n",
    "X_lstm = X.reshape(-1, 21, 3)\n",
    "print(\"Shape X_lstm:\", X_lstm.shape)\n",
    "print(\"Shape y_enc:\", y_enc.shape)"
   ]
  },
  {
   "cell_type": "markdown",
   "id": "25b0aae6",
   "metadata": {},
   "source": [
    "## 2. Dividir en entrenamiento y validación"
   ]
  },
  {
   "cell_type": "code",
   "execution_count": null,
   "id": "7312003c",
   "metadata": {},
   "outputs": [],
   "source": [
    "X_train, X_val, y_train, y_val = train_test_split(\n",
    "    X_lstm, y_enc, test_size=0.15, random_state=42, stratify=y_enc\n",
    ")\n",
    "print(\"Train:\", X_train.shape, \"Val:\", X_val.shape)"
   ]
  },
  {
   "cell_type": "markdown",
   "id": "0848df4a",
   "metadata": {},
   "source": [
    "## 3. Construir el modelo LSTM"
   ]
  },
  {
   "cell_type": "code",
   "execution_count": null,
   "id": "aa87f010",
   "metadata": {},
   "outputs": [],
   "source": [
    "num_classes = len(le.classes_)\n",
    "\n",
    "model = keras.Sequential([\n",
    "    keras.layers.Input(shape=(21, 3)),\n",
    "    keras.layers.LSTM(64, return_sequences=True),\n",
    "    keras.layers.LSTM(32),\n",
    "    keras.layers.Dense(32, activation=\"relu\"),\n",
    "    keras.layers.Dense(num_classes, activation=\"softmax\")\n",
    "])\n",
    "\n",
    "model.compile(\n",
    "    optimizer=\"adam\",\n",
    "    loss=\"sparse_categorical_crossentropy\",\n",
    "    metrics=[\"accuracy\"]\n",
    ")\n",
    "\n",
    "model.summary()"
   ]
  },
  {
   "cell_type": "markdown",
   "id": "6190878e",
   "metadata": {},
   "source": [
    "## 4. Entrenar el modelo"
   ]
  },
  {
   "cell_type": "code",
   "execution_count": null,
   "id": "703c76b3",
   "metadata": {},
   "outputs": [],
   "source": [
    "callbacks = [\n",
    "    keras.callbacks.EarlyStopping(patience=5, restore_best_weights=True)\n",
    "]\n",
    "\n",
    "history = model.fit(\n",
    "    X_train, y_train,\n",
    "    validation_data=(X_val, y_val),\n",
    "    epochs=40,\n",
    "    batch_size=32,\n",
    "    callbacks=callbacks\n",
    ")"
   ]
  },
  {
   "cell_type": "markdown",
   "id": "15d114a8",
   "metadata": {},
   "source": [
    "## 5. Evaluar y guardar el modelo"
   ]
  },
  {
   "cell_type": "code",
   "execution_count": null,
   "id": "7b940e69",
   "metadata": {},
   "outputs": [],
   "source": [
    "val_loss, val_acc = model.evaluate(X_val, y_val)\n",
    "print(f\"Validación - Loss: {val_loss:.4f}  Acc: {val_acc:.4f}\")\n",
    "\n",
    "# Guardar modelo y codificador de etiquetas en carpeta Modelos\n",
    "import os\n",
    "os.makedirs(\"Modelos\", exist_ok=True)\n",
    "model.save(os.path.join(\"Modelos\", \"modelo_lstm_landmarks.keras\"))\n",
    "import joblib\n",
    "joblib.dump(le, os.path.join(\"Modelos\", \"label_encoder_landmarks.pkl\"))"
   ]
  },
  {
   "cell_type": "markdown",
   "id": "bd8e5581",
   "metadata": {},
   "source": [
    "¡Listo! El modelo LSTM entrenado y el codificador de etiquetas han sido guardados en la carpeta `Modelos`."
   ]
  }
 ],
 "metadata": {
  "kernelspec": {
   "display_name": "venv",
   "language": "python",
   "name": "python3"
  },
  "language_info": {
   "codemirror_mode": {
    "name": "ipython",
    "version": 3
   },
   "file_extension": ".py",
   "mimetype": "text/x-python",
   "name": "python",
   "nbconvert_exporter": "python",
   "pygments_lexer": "ipython3",
   "version": "3.10.0"
  }
 },
 "nbformat": 4,
 "nbformat_minor": 5
}
